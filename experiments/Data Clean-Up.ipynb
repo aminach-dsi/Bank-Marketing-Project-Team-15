{
 "cells": [
  {
   "cell_type": "code",
   "execution_count": null,
   "metadata": {},
   "outputs": [
    {
     "name": "stdout",
     "output_type": "stream",
     "text": [
      "Data cleaned with columns: ['age', 'job', 'marital', 'education', 'default', 'balance', 'housing', 'loan', 'contact', 'day', 'month', 'duration', 'campaign', 'pdays', 'previous', 'poutcome', 'y']\n",
      "  age;\"job\";\"marital\";\"education\";\"default\";\"balance\";\"housing\";\"loan\";\"contact\";\"day\";\"month\";\"duration\";\"campaign\";\"pdays\";\"previous\";\"poutcome\";\"y\"\n",
      "0  30;\"unemployed\";\"married\";\"primary\";\"no\";1787;...                                                                                                  \n",
      "1  33;\"services\";\"married\";\"secondary\";\"no\";4789;...                                                                                                  \n",
      "2  35;\"management\";\"single\";\"tertiary\";\"no\";1350;...                                                                                                  \n",
      "3  30;\"management\";\"married\";\"tertiary\";\"no\";1476...                                                                                                  \n",
      "4  59;\"blue-collar\";\"married\";\"secondary\";\"no\";0;...                                                                                                  \n"
     ]
    }
   ],
   "source": [
    "import pandas as pd\n",
    "# Load the data\n",
    "df = pd.read_csv(r'/Users/Jakub_1/Downloads/bank+marketing/bank/bank.csv')\n",
    "\n",
    "# column-by-column toggle to clean up preprocessing\n",
    "# comment out whichever columnns you do not want to remove the unknowns for\n",
    "columns_to_clean = [\n",
    "    'age',           \n",
    "    'job',           \n",
    "    'marital',       \n",
    "    'education',     \n",
    "    'default',      \n",
    "    'balance',      \n",
    "    'housing',      \n",
    "    'loan',         \n",
    "    'contact',       \n",
    "    'day',          \n",
    "    'month',       \n",
    "    'duration',     \n",
    "    'campaign',      \n",
    "    'pdays',         \n",
    "    'previous',      \n",
    "    'poutcome',      \n",
    "    'y'              \n",
    "]\n",
    "\n",
    "\n",
    "# processing out any unknown data as defined above\n",
    "for column in columns_to_clean:\n",
    "    if column in df.columns and df[column].dtype == 'object':  #only object (i.e. string-based) columns are filtered out\n",
    "        df = df[df[column] != 'unknown']\n",
    "\n",
    "# sav or display\n",
    "print(f\"Data cleaned with columns: {columns_to_clean}\")\n",
    "print(df.head())  # displays the first few column\n",
    "  # Uncomment below save cleaned data:\n",
    "# df.to_csv('cleaned_bank_data.csv', index=False)\n",
    "\n"
   ]
  }
 ],
 "metadata": {
  "kernelspec": {
   "display_name": "dsi_participant",
   "language": "python",
   "name": "python3"
  },
  "language_info": {
   "codemirror_mode": {
    "name": "ipython",
    "version": 3
   },
   "file_extension": ".py",
   "mimetype": "text/x-python",
   "name": "python",
   "nbconvert_exporter": "python",
   "pygments_lexer": "ipython3",
   "version": "3.9.18"
  }
 },
 "nbformat": 4,
 "nbformat_minor": 2
}
